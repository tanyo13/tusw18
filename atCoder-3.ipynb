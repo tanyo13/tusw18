{
 "cells": [
  {
   "cell_type": "markdown",
   "metadata": {},
   "source": [
    "# atCoderを解いてみる (Part 3)\n",
    "\n",
    "<p style=\"text-align: right;\">2018.06.18 田辺</p>\n",
    "\n",
    "せっかく役に立つテンプレートを作ったのに，多くの者が使おうとしない．\n",
    "実に残念なことである．\n",
    "仕方が無いので，すこしレベルを落として，具体的な例を書いてやることにする．"
   ]
  },
  {
   "cell_type": "code",
   "execution_count": 1,
   "metadata": {
    "collapsed": true
   },
   "outputs": [],
   "source": [
    "import io\n",
    "import sys"
   ]
  },
  {
   "cell_type": "markdown",
   "metadata": {},
   "source": [
    "## 入力が1つの数値である場合\n",
    "\n",
    "例題: 与えられた数 $N$ に対して，$N+1$ を出力せよ．\n",
    "\n",
    "入力例:\n",
    "\n",
    "     15\n",
    "     \n",
    "出力例:\n",
    "\n",
    "     16\n",
    "\n",
    "\n",
    "以下に並ぶ2つのコードのうち，上はテスト用のデータを設定するものであり，下が提出するコードである．詳細は atCoder-2.ipynb を参照せよ．"
   ]
  },
  {
   "cell_type": "code",
   "execution_count": 2,
   "metadata": {
    "collapsed": false
   },
   "outputs": [],
   "source": [
    "lines='''15\n",
    "'''\n",
    "sys.stdin = io.StringIO(lines)"
   ]
  },
  {
   "cell_type": "code",
   "execution_count": 3,
   "metadata": {
    "collapsed": false
   },
   "outputs": [
    {
     "name": "stdout",
     "output_type": "stream",
     "text": [
      "16\n"
     ]
    }
   ],
   "source": [
    "import sys\n",
    "\n",
    "# 関数 solve は，もちろん，問題に応じて書き換える\n",
    "def solve(n):\n",
    "    answer = n + 1\n",
    "    return answer\n",
    "\n",
    "# ここから下は，入力・出力形式が同じであれば，変えなくて良い．\n",
    "def readQuestion():\n",
    "    line = sys.stdin.readline().rstrip()\n",
    "    return int(line)\n",
    "\n",
    "def main():\n",
    "    n = readQuestion()\n",
    "    answer = solve(n)\n",
    "    print(answer)\n",
    "    \n",
    "if __name__ == '__main__':\n",
    "    main()"
   ]
  },
  {
   "cell_type": "code",
   "execution_count": 4,
   "metadata": {
    "collapsed": false
   },
   "outputs": [
    {
     "data": {
      "text/plain": [
       "11"
      ]
     },
     "execution_count": 4,
     "metadata": {},
     "output_type": "execute_result"
    }
   ],
   "source": [
    "solve(10)"
   ]
  },
  {
   "cell_type": "markdown",
   "metadata": {},
   "source": [
    "## 1つの文字列の場合\n",
    "\n",
    "例題: 与えられた文字列 $S$ に対して，$S$ の長さを出力せよ．\n",
    "\n",
    "入力例:\n",
    "\n",
    "     abcxyz\n",
    "     \n",
    "出力例:\n",
    "\n",
    "     6"
   ]
  },
  {
   "cell_type": "code",
   "execution_count": 5,
   "metadata": {
    "collapsed": true
   },
   "outputs": [],
   "source": [
    "lines='''abcxyz\n",
    "'''\n",
    "sys.stdin = io.StringIO(lines)"
   ]
  },
  {
   "cell_type": "code",
   "execution_count": 6,
   "metadata": {
    "collapsed": false
   },
   "outputs": [
    {
     "name": "stdout",
     "output_type": "stream",
     "text": [
      "6\n"
     ]
    }
   ],
   "source": [
    "import sys\n",
    "\n",
    "# 関数 solve は，もちろん，問題に応じて書き換える\n",
    "def solve(s):\n",
    "    answer = len(s)\n",
    "    return answer\n",
    "\n",
    "# ここから下は，入力・出力形式が同じであれば，変えなくて良い．\n",
    "def readQuestion():\n",
    "    line = sys.stdin.readline().rstrip()\n",
    "    return line\n",
    "\n",
    "def main():\n",
    "    n = readQuestion()\n",
    "    answer = solve(n)\n",
    "    print(answer)\n",
    "    \n",
    "if __name__ == '__main__':\n",
    "    main()"
   ]
  },
  {
   "cell_type": "markdown",
   "metadata": {},
   "source": [
    "## 2つの数値が1行に与えられる場合\n",
    "\n",
    "例題: 与えられた数 $A$, $B$ に対して，$A+B$ を出力せよ．\n",
    "\n",
    "入力例:\n",
    "\n",
    "     31 -4\n",
    "     \n",
    "出力例:\n",
    "\n",
    "     27"
   ]
  },
  {
   "cell_type": "code",
   "execution_count": 7,
   "metadata": {
    "collapsed": true
   },
   "outputs": [],
   "source": [
    "lines='''31 -4\n",
    "'''\n",
    "sys.stdin = io.StringIO(lines)"
   ]
  },
  {
   "cell_type": "code",
   "execution_count": 8,
   "metadata": {
    "collapsed": false
   },
   "outputs": [
    {
     "name": "stdout",
     "output_type": "stream",
     "text": [
      "27\n"
     ]
    }
   ],
   "source": [
    "import sys\n",
    "\n",
    "# 関数 solve は，もちろん，問題に応じて書き換える\n",
    "def solve(a, b):\n",
    "    answer = a + b\n",
    "    return answer\n",
    "\n",
    "# ここから下は，入力・出力形式が同じであれば，変えなくて良い．\n",
    "def readQuestion():\n",
    "    line = sys.stdin.readline().rstrip()\n",
    "    [str_a, str_b] = line.split(' ')\n",
    "    return (int(str_a), int(str_b))\n",
    "\n",
    "def main():\n",
    "    a, b = readQuestion()\n",
    "    answer = solve(a, b)\n",
    "    print(answer)\n",
    "    \n",
    "if __name__ == '__main__':\n",
    "    main()"
   ]
  },
  {
   "cell_type": "markdown",
   "metadata": {},
   "source": [
    "## 3つの数値が1行に与えられる場合\n",
    "\n",
    "例題: 与えられた数 $A$, $B$, $C$ に対して，$A+B+C$ を出力せよ．\n",
    "\n",
    "入力例:\n",
    "\n",
    "     31 -4 5\n",
    "     \n",
    "出力例:\n",
    "\n",
    "     32"
   ]
  },
  {
   "cell_type": "code",
   "execution_count": 9,
   "metadata": {
    "collapsed": true
   },
   "outputs": [],
   "source": [
    "lines='''31 -4 5\n",
    "'''\n",
    "sys.stdin = io.StringIO(lines)"
   ]
  },
  {
   "cell_type": "code",
   "execution_count": 10,
   "metadata": {
    "collapsed": false
   },
   "outputs": [
    {
     "name": "stdout",
     "output_type": "stream",
     "text": [
      "32\n"
     ]
    }
   ],
   "source": [
    "import sys\n",
    "\n",
    "# 関数 solve は，もちろん，問題に応じて書き換える\n",
    "def solve(a, b, c):\n",
    "    answer = a + b + c\n",
    "    return answer\n",
    "\n",
    "# ここから下は，入力・出力形式が同じであれば，変えなくて良い．\n",
    "def readQuestion():\n",
    "    line = sys.stdin.readline().rstrip()\n",
    "    [str_a, str_b, str_c] = line.split(' ')\n",
    "    return (int(str_a), int(str_b), int(str_c))\n",
    "\n",
    "def main():\n",
    "    a, b, c = readQuestion()\n",
    "    answer = solve(a, b, c)\n",
    "    print(answer)\n",
    "    \n",
    "if __name__ == '__main__':\n",
    "    main()"
   ]
  },
  {
   "cell_type": "markdown",
   "metadata": {},
   "source": [
    "## 1行目に3つの数値が，2行目に1つの数値が与えられる場合\n",
    "\n",
    "例題: 1行目の数 $A$, $B$, $C$ のうち，最も大きいものを, 2行目の数 $N$ に加えた値を求めよ．\n",
    "\n",
    "入力例:\n",
    "\n",
    "     -200 -100 50\n",
    "     3\n",
    "     \n",
    "出力例:\n",
    "\n",
    "     53"
   ]
  },
  {
   "cell_type": "code",
   "execution_count": 11,
   "metadata": {
    "collapsed": true
   },
   "outputs": [],
   "source": [
    "lines='''-200 -100 50\n",
    "3\n",
    "'''\n",
    "sys.stdin = io.StringIO(lines)"
   ]
  },
  {
   "cell_type": "code",
   "execution_count": 12,
   "metadata": {
    "collapsed": false
   },
   "outputs": [
    {
     "name": "stdout",
     "output_type": "stream",
     "text": [
      "53\n"
     ]
    }
   ],
   "source": [
    "import sys\n",
    "\n",
    "# 関数 solve は，もちろん，問題に応じて書き換える\n",
    "def solve(a, b, c, n):\n",
    "    answer = max(a, b, c) + n\n",
    "    return answer\n",
    "\n",
    "# ここから下は，入力・出力形式が同じであれば，変えなくて良い．\n",
    "def readQuestion():\n",
    "    line1 = sys.stdin.readline().rstrip()\n",
    "    [str_a, str_b, str_c] = line1.split(' ')\n",
    "    line2 = sys.stdin.readline().rstrip()\n",
    "    return (int(str_a), int(str_b), int(str_c), int(line2))\n",
    "\n",
    "def main():\n",
    "    a, b, c, n = readQuestion()\n",
    "    answer = solve(a, b, c, n)\n",
    "    print(answer)\n",
    "    \n",
    "if __name__ == '__main__':\n",
    "    main()"
   ]
  },
  {
   "cell_type": "markdown",
   "metadata": {},
   "source": [
    "## 1行目に数値が，2行目に文字列が与えられる場合\n",
    "\n",
    "例題: 1行目の数 $N$, $I$ に対し，2行目に長さ $N$ の文字列 $S$ が与えられる．$S$ の先頭から $I$ 番目の文字を答えよ．(先頭文字を1番目と数える)\n",
    "\n",
    "入力例:\n",
    "\n",
    "     7 2\n",
    "     abcdefg\n",
    "     \n",
    "出力例:\n",
    "\n",
    "     b"
   ]
  },
  {
   "cell_type": "code",
   "execution_count": 13,
   "metadata": {
    "collapsed": true
   },
   "outputs": [],
   "source": [
    "lines='''7 2\n",
    "abcdefg\n",
    "'''\n",
    "sys.stdin = io.StringIO(lines)"
   ]
  },
  {
   "cell_type": "code",
   "execution_count": 14,
   "metadata": {
    "collapsed": false
   },
   "outputs": [
    {
     "name": "stdout",
     "output_type": "stream",
     "text": [
      "b\n"
     ]
    }
   ],
   "source": [
    "import sys\n",
    "\n",
    "# 関数 solve は，もちろん，問題に応じて書き換える\n",
    "def solve(n, i, s):\n",
    "    answer = s[i-1]\n",
    "    return answer\n",
    "\n",
    "# ここから下は，入力・出力形式が同じであれば，変えなくて良い．\n",
    "def readQuestion():\n",
    "    line1 = sys.stdin.readline().rstrip()\n",
    "    [str_n, str_i] = line1.split(' ')\n",
    "    line2 = sys.stdin.readline().rstrip()\n",
    "    return (int(str_n), int(str_i), line2)\n",
    "\n",
    "def main():\n",
    "    n, i, s = readQuestion()\n",
    "    answer = solve(n, i, s)\n",
    "    print(answer)\n",
    "    \n",
    "if __name__ == '__main__':\n",
    "    main()"
   ]
  },
  {
   "cell_type": "markdown",
   "metadata": {},
   "source": [
    "## 1行目に与えられた数だけ2行目のデータを読む．\n",
    "\n",
    "例題: 1行目の数 $N$に対し，2行目に $N$ 個の数 $a_i$ ($1 \\leq i $leq N$) が与えられる．総和を求めよ．\n",
    "\n",
    "入力例:\n",
    "\n",
    "    5\n",
    "    1 2 3 4 5\n",
    "\n",
    "出力例:\n",
    "\n",
    "    15"
   ]
  },
  {
   "cell_type": "code",
   "execution_count": 15,
   "metadata": {
    "collapsed": false
   },
   "outputs": [],
   "source": [
    "lines='''5\n",
    "1 2 3 4 5\n",
    "'''\n",
    "sys.stdin = io.StringIO(lines)"
   ]
  },
  {
   "cell_type": "code",
   "execution_count": 16,
   "metadata": {
    "collapsed": false
   },
   "outputs": [
    {
     "name": "stdout",
     "output_type": "stream",
     "text": [
      "15\n"
     ]
    }
   ],
   "source": [
    "import sys\n",
    "\n",
    "def solve(n, lst_a):\n",
    "    answer = 0\n",
    "    for i in range(n):\n",
    "        answer += lst_a[i]\n",
    "    return answer\n",
    "\n",
    "def readQuestion():\n",
    "    line1 = sys.stdin.readline().rstrip()\n",
    "    n = int(line1)\n",
    "    line2 = sys.stdin.readline().rstrip()\n",
    "    lst_a = [int(s) for s in line2.split(' ')]\n",
    "    return (n, lst_a)\n",
    "\n",
    "def main():\n",
    "    n, lst_ab = readQuestion()\n",
    "    answer = solve(n, lst_ab)\n",
    "    print(answer)\n",
    "    \n",
    "if __name__ == '__main__':\n",
    "    main()"
   ]
  },
  {
   "cell_type": "markdown",
   "metadata": {},
   "source": [
    "## 1行目に与えられた数だけデータ行を読む\n",
    "\n",
    "Beginner's Contest の 問題C 以降には，このようなパターンの問題もある．\n",
    "\n",
    "例題: 1行目の数 $N$ に対し，2行目以降に $N$ 組の数 $a_i$, $b_i$ ($1 \\leq i \\leq N$) が与えられる．$a_i - b_i$ の最大値を答えよ．\n",
    "\n",
    "入力例:\n",
    "\n",
    "    5\n",
    "    1 0\n",
    "    1 2\n",
    "    10 2\n",
    "    5 4\n",
    "    2 6\n",
    "\n",
    "出力例:\n",
    "\n",
    "    8\n",
    "\n",
    "solve が，データをどう受け取りたいかによって，readQuestion の書き方が変わる．\n",
    "多くの場合，$(a_i, b_i)$ のリストを受け取りたいであろう．その場合は次のようになる．"
   ]
  },
  {
   "cell_type": "code",
   "execution_count": 17,
   "metadata": {
    "collapsed": true
   },
   "outputs": [],
   "source": [
    "lines='''5\n",
    "1 0\n",
    "1 2\n",
    "10 2\n",
    "5 4\n",
    "2 6\n",
    "'''\n",
    "sys.stdin = io.StringIO(lines)"
   ]
  },
  {
   "cell_type": "code",
   "execution_count": 18,
   "metadata": {
    "collapsed": false
   },
   "outputs": [
    {
     "name": "stdout",
     "output_type": "stream",
     "text": [
      "8\n"
     ]
    }
   ],
   "source": [
    "import sys\n",
    "\n",
    "def solve(n, lst_ab):\n",
    "    answer = max([a - b for (a,b) in lst_ab])\n",
    "    return answer\n",
    "\n",
    "def readQuestion():\n",
    "    line1 = sys.stdin.readline().rstrip()\n",
    "    n = int(line1)\n",
    "    lst_ab = []\n",
    "    for i in range(n):\n",
    "        line = sys.stdin.readline()\n",
    "        [str_a, str_b] = line.rstrip().split(' ')\n",
    "        lst_ab.append((int(str_a), int(str_b)))\n",
    "    return (n, lst_ab)\n",
    "\n",
    "def main():\n",
    "    n, lst_ab = readQuestion()\n",
    "    answer = solve(n, lst_ab)\n",
    "    print(answer)\n",
    "    \n",
    "if __name__ == '__main__':\n",
    "    main()"
   ]
  },
  {
   "cell_type": "markdown",
   "metadata": {},
   "source": [
    "$a_i$ のリストと $b_i$ のリストを別々に受け取りたいのであれば，次のようになる．"
   ]
  },
  {
   "cell_type": "code",
   "execution_count": 19,
   "metadata": {
    "collapsed": true
   },
   "outputs": [],
   "source": [
    "sys.stdin = io.StringIO(lines)"
   ]
  },
  {
   "cell_type": "code",
   "execution_count": 20,
   "metadata": {
    "collapsed": false
   },
   "outputs": [
    {
     "name": "stdout",
     "output_type": "stream",
     "text": [
      "8\n"
     ]
    }
   ],
   "source": [
    "import sys\n",
    "\n",
    "def solve(n, lst_a, lst_b):\n",
    "    answer = max([lst_a[i] - lst_b[i] for i in range(n)])\n",
    "    return answer\n",
    "\n",
    "def readQuestion():\n",
    "    line1 = sys.stdin.readline().rstrip()\n",
    "    n = int(line1)\n",
    "    lst_a = []\n",
    "    lst_b = []\n",
    "    for i in range(n):\n",
    "        line = sys.stdin.readline()\n",
    "        [str_a, str_b] = line.rstrip().split(' ')\n",
    "        lst_a.append(int(str_a))\n",
    "        lst_b.append(int(str_b))\n",
    "    return (n, lst_a, lst_b)\n",
    "\n",
    "def main():\n",
    "    n, lst_a, lst_b = readQuestion()\n",
    "    answer = solve(n, lst_a, lst_b)\n",
    "    print(answer)\n",
    "    \n",
    "if __name__ == '__main__':\n",
    "    main()"
   ]
  },
  {
   "cell_type": "markdown",
   "metadata": {},
   "source": [
    "どちらのコードももっと短く書けるし，なにより効率上の問題がある (リストでなく，generator を使うべき) が，問題Cくらいまでなら気にしなくても良いであろう．"
   ]
  }
 ],
 "metadata": {
  "kernelspec": {
   "display_name": "Python 3",
   "language": "python",
   "name": "python3"
  },
  "language_info": {
   "codemirror_mode": {
    "name": "ipython",
    "version": 3
   },
   "file_extension": ".py",
   "mimetype": "text/x-python",
   "name": "python",
   "nbconvert_exporter": "python",
   "pygments_lexer": "ipython3",
   "version": "3.6.0"
  }
 },
 "nbformat": 4,
 "nbformat_minor": 2
}
