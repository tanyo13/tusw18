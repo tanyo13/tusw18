{
 "cells": [
  {
   "cell_type": "markdown",
   "metadata": {},
   "source": [
    "# atCoderを解いてみる (Part 2)\n",
    "\n",
    "<p style=\"text-align: right;\">2018.05.08 田辺</p>\n",
    "\n",
    "\n",
    "## 例題2\n",
    "\n",
    "Part1で一通りの説明はできたが，入力にはいろいろなパターンがあるので，もう少し説明を加える．\n",
    "\n",
    "次の問題を考えよう．\n",
    "\n",
    "> N組の夫婦がパーティに参加した．夫の身長は $a_i$cm,\n",
    "> 妻の身長は $b_i$cm である ($1 \\leq i \\leq N$)．\n",
    "> 妻の身長が夫の身長よりも高い夫婦が何組いたか答えよ．\n",
    "\n",
    "以下の制約がついているものとする．\n",
    "\n",
    "> * $1 \\leq N \\leq 100$\n",
    "> * $100 \\leq a_i \\leq 250$\n",
    "> * $100 \\leq b_i \\leq 250$\n",
    "> * 入力中の全ての値は整数である．\n",
    "\n",
    "入力の形式\n",
    "\n",
    "> $N$ <br/>\n",
    "> $a_1$ $b_1$<br/>\n",
    "> $a_2$ $b_2$<br/>\n",
    "> ...<br/>\n",
    "> $a_N$ $b_N$<br/>\n",
    "\n",
    "入力例1\n",
    "\n",
    "    4\n",
    "    186 151\n",
    "    168 169\n",
    "    172 161\n",
    "    177 159\n",
    "\n",
    "出力例1\n",
    "\n",
    "    1\n"
   ]
  },
  {
   "cell_type": "markdown",
   "metadata": {},
   "source": [
    "## solve\n",
    "\n",
    "まずsolveから考える．要するに $a_i < b_i$ であるような i の個数を数えれば良いのであるから，主要部は次のようになると\n",
    "考えられる:\n",
    "\n",
    "    count = 0\n",
    "    for i in range(n):\n",
    "        if a[i] < b[i]:\n",
    "            count += 1\n",
    "    return count\n",
    "\n",
    "関数 solve でこのようなコードが書けるためには，以下のような前提が必要であることがわかる:\n",
    "\n",
    "* 組数を表す整数nが使えること\n",
    "* 夫の身長を表す整数のリストaが使えること\n",
    "* 妻の身長を表す整数のリストbが使えること\n",
    "\n",
    "つまり，solveは n, a, b を引数として受け取る必要がある:"
   ]
  },
  {
   "cell_type": "code",
   "execution_count": null,
   "metadata": {
    "collapsed": true
   },
   "outputs": [],
   "source": [
    "def solve(n, a, b):\n",
    "    count = 0\n",
    "    for i in range(n):\n",
    "        if a[i] < b[i]:\n",
    "            count += 1\n",
    "    return count"
   ]
  },
  {
   "cell_type": "markdown",
   "metadata": {},
   "source": [
    "テストしてみよう．"
   ]
  },
  {
   "cell_type": "code",
   "execution_count": null,
   "metadata": {
    "collapsed": true
   },
   "outputs": [],
   "source": [
    "print(solve(4, [186, 168, 172, 177], [151, 169, 161, 159]))\n",
    "print(solve(3, [190, 200, 210], [160, 160, 170]))\n",
    "print(solve(2, [150, 190], [155, 191]))"
   ]
  },
  {
   "cell_type": "markdown",
   "metadata": {},
   "source": [
    "良いようである．"
   ]
  },
  {
   "cell_type": "markdown",
   "metadata": {},
   "source": [
    "## readQuestion\n",
    "\n",
    "まず，なにはともあれsysモジュールをインポートしておく．"
   ]
  },
  {
   "cell_type": "code",
   "execution_count": null,
   "metadata": {
    "collapsed": true
   },
   "outputs": [],
   "source": [
    "import sys"
   ]
  },
  {
   "cell_type": "markdown",
   "metadata": {},
   "source": [
    "上の考察から，readQuestion は，n, a, b を設定・作成しなければならないことがわかる．\n",
    "\n",
    "例題1と異なり，入力が複数行にわたっている．\n",
    "したがって，`sys.stdin.readlin()` を，行数の回数だけ実行する必要がある．\n",
    "\n",
    "「行数の回数」といっても，行数はどうしたらわかるか?\n",
    "それは，最初の行を読んでみればわかる．したがって，以下のようにコードを書けば良い．\n",
    "\n",
    "* まず，最初の行を読んでみる．\n",
    "* そこに書かれていた数の回数だけ，行を読み込む．\n",
    "\n",
    "だいたいこんなコードである:"
   ]
  },
  {
   "cell_type": "code",
   "execution_count": null,
   "metadata": {
    "collapsed": true
   },
   "outputs": [],
   "source": [
    "def readQuestionA():\n",
    "    n = sys.stdin.readline()\n",
    "    for i in range(n):\n",
    "        line = sys.stdin.readline()\n",
    "        # さらに処理"
   ]
  },
  {
   "cell_type": "markdown",
   "metadata": {},
   "source": [
    "残念ながら，このままではうまく動作しない．実行してみるとわかる:"
   ]
  },
  {
   "cell_type": "code",
   "execution_count": null,
   "metadata": {
    "collapsed": true
   },
   "outputs": [],
   "source": [
    "readQuestionA()"
   ]
  },
  {
   "cell_type": "markdown",
   "metadata": {},
   "source": [
    "エラーメッセージを直訳すると，「'str'オブジェクトは，整数として解釈することはできない」．\n",
    "3行目の range(n) で，n はrangeの引数だから整数であることが期待されているのに，\n",
    "実際には'str'オブジェクト (つまり文字列) だ，と文句を言っているのである．\n",
    "\n",
    "そこで，文字列を整数に変換する関数 int を用いる．\n",
    "n が文字列であっても，int(n) とすると，整数が得られる．"
   ]
  },
  {
   "cell_type": "code",
   "execution_count": null,
   "metadata": {
    "collapsed": true
   },
   "outputs": [],
   "source": [
    "def readQuestionB():\n",
    "    sn = sys.stdin.readline()\n",
    "    n = int(sn)\n",
    "    for i in range(n):\n",
    "        line = sys.stdin.readline()\n",
    "        # さらに処理\n",
    "        print(line.rstrip())   # とりあえず出力してみることにした．"
   ]
  },
  {
   "cell_type": "code",
   "execution_count": null,
   "metadata": {
    "collapsed": true
   },
   "outputs": [],
   "source": [
    "readQuestionB()"
   ]
  },
  {
   "cell_type": "markdown",
   "metadata": {},
   "source": [
    "またエラーになってしまった．\n",
    "今度のエラーメッセージは，「十進整数として，不正なリテラルである '' が与えられた」である．\n",
    "int という関数は，整数以外のものを整数に変換する関数であるが，何を渡しても良いわけではなく，\n",
    "十進整数に見えるようなものを渡さなくてはならない．たとえば:"
   ]
  },
  {
   "cell_type": "code",
   "execution_count": null,
   "metadata": {
    "collapsed": true
   },
   "outputs": [],
   "source": [
    "int('3152')"
   ]
  },
  {
   "cell_type": "code",
   "execution_count": null,
   "metadata": {
    "collapsed": true
   },
   "outputs": [],
   "source": [
    "int('-413')"
   ]
  },
  {
   "cell_type": "markdown",
   "metadata": {},
   "source": [
    "などはOKだが，"
   ]
  },
  {
   "cell_type": "code",
   "execution_count": null,
   "metadata": {
    "collapsed": true
   },
   "outputs": [],
   "source": [
    "int('detarame')"
   ]
  },
  {
   "cell_type": "code",
   "execution_count": null,
   "metadata": {
    "collapsed": true
   },
   "outputs": [],
   "source": [
    "int('でたらめ')"
   ]
  },
  {
   "cell_type": "markdown",
   "metadata": {},
   "source": [
    "などは整数にしようがないので，撥ねられる，というわけである．\n",
    "\n",
    "話を戻して，上の readQuestionB() の実行では，(Jupyter Notebook が標準入力を扱えないために) snに空文字列が設定されてしまい，\n",
    "そのため，それを十進整数に見ることができずにエラーになったわけである．\n",
    "\n",
    "実際，以下のコード:\n",
    "\n",
    "    def readQuestionB():\n",
    "        sn = sys.stdin.readline()\n",
    "        n = int(sn)\n",
    "        for i in range(n):\n",
    "            line = sys.stdin.readline()\n",
    "            # さらに処理\n",
    "            print(line.rstrip())   # とりあえず出力してみることにした．\n",
    "\n",
    "    readQuestionB()\n",
    "\n",
    "を，sample.py として保存し，さらに入力例1を sampleData.txt として保存して，\n",
    "端末で\n",
    "\n",
    "    python sample.py < sampleData.txt\n",
    "    \n",
    "とすれば，エラー無く実行が行われる．"
   ]
  },
  {
   "cell_type": "markdown",
   "metadata": {},
   "source": [
    "## StringIO\n",
    "\n",
    "これで良いのだが，readQuestion 関数のテストをするために，いちいちファイルに書き出して端末で\n",
    "実行しなければならないのは面倒である．\n",
    "StringIO というものを使うと，もう少し簡単にテストをすることができる．\n",
    "準備として，ioモジュールをインポートしておく必要がある．"
   ]
  },
  {
   "cell_type": "code",
   "execution_count": null,
   "metadata": {
    "collapsed": true
   },
   "outputs": [],
   "source": [
    "import io"
   ]
  },
  {
   "cell_type": "markdown",
   "metadata": {},
   "source": [
    "以下のように使う．まず，標準入力から読み込ませたいデータを，適当な変数に代入する．"
   ]
  },
  {
   "cell_type": "code",
   "execution_count": null,
   "metadata": {
    "collapsed": true
   },
   "outputs": [],
   "source": [
    "indata = '''4\n",
    "186 151\n",
    "168 169\n",
    "172 161\n",
    "177 159\n",
    "'''"
   ]
  },
  {
   "cell_type": "markdown",
   "metadata": {},
   "source": [
    "三重引用符 `'''` で囲むことで，改行文字も含めることができるようになる．\n",
    "\n",
    "文字列の先頭は「4」という文字にしたいので，三重引用符の直後に4を置いている．一方，最後の159の直後には改行文字を置きたいので，\n",
    "最後の三重引用符とその直前の159の間に改行が入っている．\n",
    "\n",
    "この文字列を io.StringIO() に渡して，sys.stdin に代入することで，標準入力から，この文字列が入力されるように見せかけることができる:"
   ]
  },
  {
   "cell_type": "code",
   "execution_count": null,
   "metadata": {
    "collapsed": true
   },
   "outputs": [],
   "source": [
    "sys.stdin = io.StringIO(indata)"
   ]
  },
  {
   "cell_type": "markdown",
   "metadata": {},
   "source": [
    "実行してみよう．"
   ]
  },
  {
   "cell_type": "code",
   "execution_count": null,
   "metadata": {
    "collapsed": true
   },
   "outputs": [],
   "source": [
    "readQuestionB()"
   ]
  },
  {
   "cell_type": "markdown",
   "metadata": {},
   "source": [
    "うまくいった．なお，もう一度実行するとエラーになる．"
   ]
  },
  {
   "cell_type": "code",
   "execution_count": null,
   "metadata": {
    "collapsed": true
   },
   "outputs": [],
   "source": [
    "readQuestionB()"
   ]
  },
  {
   "cell_type": "markdown",
   "metadata": {},
   "source": [
    "これは，入力という性質上，一度読んでしまうとなくなってしまうからである．\n",
    "もう一度標準入力の設定をしてから実行すれば大丈夫:"
   ]
  },
  {
   "cell_type": "code",
   "execution_count": null,
   "metadata": {
    "collapsed": true
   },
   "outputs": [],
   "source": [
    "sys.stdin = io.StringIO(indata)\n",
    "readQuestionB()"
   ]
  },
  {
   "cell_type": "markdown",
   "metadata": {},
   "source": [
    "## readQuestion\n",
    "\n",
    "話を元に戻して，readQuestion 関数の定義を続ける．\n",
    "\n",
    "nを読んだあとのループ中では，`sys.stdin.readlin()` によって，\"186 151\\n\" のような文字列が返される．\n",
    "(最後の「\\n」は改行文字を表している．) \n",
    "これを，2つの整数 186 と 151 に分割しなければならない．\n",
    "\n",
    "### split\n",
    "\n",
    "このために用いられるのが，split というメソッドである．文字列 x に対し，x.split(' ') とすると，xを空白で分割してくれる．"
   ]
  },
  {
   "cell_type": "code",
   "execution_count": null,
   "metadata": {
    "collapsed": true
   },
   "outputs": [],
   "source": [
    "\"abc defghi jk\".split(' ')"
   ]
  },
  {
   "cell_type": "markdown",
   "metadata": {},
   "source": [
    "2個以上空白が続くと面倒なことになるが，atCoderではそのようなことはないので，気にしない．"
   ]
  },
  {
   "cell_type": "code",
   "execution_count": null,
   "metadata": {
    "collapsed": true
   },
   "outputs": [],
   "source": [
    "\"abc   defghi      jk\".split(' ')"
   ]
  },
  {
   "cell_type": "markdown",
   "metadata": {},
   "source": [
    "今の問題の場合，各行に2つのデータが書かれていることはわかっている．\n",
    "このような場合には，受け側にカンマで区切った2つの変数を置いておくことで対応できる:"
   ]
  },
  {
   "cell_type": "code",
   "execution_count": null,
   "metadata": {
    "collapsed": true
   },
   "outputs": [],
   "source": [
    "v1, v2 = 'hello world'.split(' ')\n",
    "print('v1 = ', v1)\n",
    "print('v2 = ', v2)"
   ]
  },
  {
   "cell_type": "markdown",
   "metadata": {},
   "source": [
    "なお，数が合わないとエラーになる．"
   ]
  },
  {
   "cell_type": "code",
   "execution_count": null,
   "metadata": {
    "collapsed": true
   },
   "outputs": [],
   "source": [
    "v1, v2, v3 = 'I am a Japanese'.split(' ')"
   ]
  },
  {
   "cell_type": "code",
   "execution_count": null,
   "metadata": {
    "collapsed": true
   },
   "outputs": [],
   "source": [
    "v1, v2, v3, v4, v5 = 'I am a Japanese'.split(' ')"
   ]
  },
  {
   "cell_type": "markdown",
   "metadata": {},
   "source": [
    "分割して得られた2つの文字列は，まず　int() を用いて整数にしてから，リスト a, b に格納していく．\n",
    "ループに入る前に a, b を空リストにしておいて，ループ中で，値を追加していく．\n",
    "リストに値を追加するためには，メソッド `append` を用いる:"
   ]
  },
  {
   "cell_type": "code",
   "execution_count": null,
   "metadata": {
    "collapsed": true
   },
   "outputs": [],
   "source": [
    "def readQuestion():\n",
    "    line = sys.stdin.readline()\n",
    "    n = int(line)\n",
    "    a = []\n",
    "    b = []\n",
    "    for i in range(n):\n",
    "        line = sys.stdin.readline()\n",
    "        sline = line.rstrip()\n",
    "        s1, s2 = sline.split(' ')\n",
    "        v1 = int(s1)\n",
    "        v2 = int(s2)\n",
    "        a.append(v1)\n",
    "        b.append(v2)\n",
    "    return (n, a, b)"
   ]
  },
  {
   "cell_type": "markdown",
   "metadata": {},
   "source": [
    "最後に返す値は n, a, b の3つである．\n",
    "python では，カンマで区切って複数の値を1つにまとめることができる．\n",
    "これを組 (tuple) と呼ぶ．\n",
    "\n",
    "本質的ではないが，まとめられるところはまとめてしまっても良い．\n",
    "(無理にまとめなくても良い)"
   ]
  },
  {
   "cell_type": "code",
   "execution_count": null,
   "metadata": {
    "collapsed": true
   },
   "outputs": [],
   "source": [
    "def readQuestion():\n",
    "    n = int(sys.stdin.readline())\n",
    "    a = []\n",
    "    b = []\n",
    "    for i in range(n):\n",
    "        s1, s2 = sys.stdin.readline().rstrip().split(' ')\n",
    "        a.append(int(s1))\n",
    "        b.append(int(s2))\n",
    "    return (n, a, b)"
   ]
  },
  {
   "cell_type": "markdown",
   "metadata": {},
   "source": [
    "テストしてみよう．"
   ]
  },
  {
   "cell_type": "code",
   "execution_count": null,
   "metadata": {
    "collapsed": true
   },
   "outputs": [],
   "source": [
    "sys.stdin = io.StringIO(indata)\n",
    "readQuestion()"
   ]
  },
  {
   "cell_type": "markdown",
   "metadata": {},
   "source": [
    "良さそうであるが，もう2つか3つはテストしてみた方が良い．"
   ]
  },
  {
   "cell_type": "markdown",
   "metadata": {},
   "source": [
    "## 統合テスト\n",
    "\n",
    "最後は StringIO を用いずに，端末上でテストしなければならない．\n",
    "下のコードをファイルに格納して，テストする．"
   ]
  },
  {
   "cell_type": "code",
   "execution_count": null,
   "metadata": {
    "collapsed": true
   },
   "outputs": [],
   "source": [
    "import sys\n",
    "\n",
    "def solve(n, a, b):\n",
    "    count = 0\n",
    "    for i in range(n):\n",
    "        if a[i] < b[i]:\n",
    "            count += 1\n",
    "    return count\n",
    "\n",
    "def readQuestion():\n",
    "    line = sys.stdin.readline()\n",
    "    n = int(line)\n",
    "    a = []\n",
    "    b = []\n",
    "    for i in range(n):\n",
    "        line = sys.stdin.readline()\n",
    "        sline = line.rstrip()\n",
    "        s1, s2 = sline.split(' ')\n",
    "        v1 = int(s1)\n",
    "        v2 = int(s2)\n",
    "        a.append(v1)\n",
    "        b.append(v2)\n",
    "    return (n, a, b)\n",
    "\n",
    "def main():\n",
    "    (n, a, b) = readQuestion()\n",
    "    answer = solve(n, a, b)\n",
    "    print(answer)\n",
    "    \n",
    "if __name__ == '__main__':\n",
    "    main()"
   ]
  }
 ],
 "metadata": {
  "kernelspec": {
   "display_name": "Python 3",
   "language": "python",
   "name": "python3"
  },
  "language_info": {
   "codemirror_mode": {
    "name": "ipython",
    "version": 3
   },
   "file_extension": ".py",
   "mimetype": "text/x-python",
   "name": "python",
   "nbconvert_exporter": "python",
   "pygments_lexer": "ipython3",
   "version": "3.6.0"
  }
 },
 "nbformat": 4,
 "nbformat_minor": 2
}
