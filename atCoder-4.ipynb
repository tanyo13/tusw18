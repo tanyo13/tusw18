{
 "cells": [
  {
   "cell_type": "markdown",
   "metadata": {},
   "source": [
    "# atCoderを解いてみる (Part 4)\n",
    "\n",
    "<p style=\"text-align: right;\">2018.06.23 田辺</p>\n",
    "\n",
    "テストの方法をもう一度まとめる．"
   ]
  },
  {
   "cell_type": "markdown",
   "metadata": {},
   "source": [
    "## デバッグ\n",
    "\n",
    "プログラムが動くようになるまでは，solve 関数で試行錯誤する．\n",
    "\n",
    "例えば，15という入力を与えたら，16という答えが得られなければならないのだとしたら，"
   ]
  },
  {
   "cell_type": "code",
   "execution_count": null,
   "metadata": {
    "collapsed": true
   },
   "outputs": [],
   "source": [
    "solve(15)"
   ]
  },
  {
   "cell_type": "markdown",
   "metadata": {},
   "source": [
    "と入力して，Shift-ENTER を押す．\n",
    "16 にならなかったら，solve 関数を直して再度挑戦．\n",
    "これを繰り返す．"
   ]
  },
  {
   "cell_type": "markdown",
   "metadata": {},
   "source": [
    "## テスト\n",
    "\n",
    "solve 関数が一通り自分の思った値を返すことを確認したら，次は，atCoder で与えられている入力例を，__atCoder の提出先で与えられるのと同じ形式で__ テストして，同じ出力例が得られることを確かめる．\n",
    "\n",
    "具体的には，以下の手順で行う．"
   ]
  },
  {
   "cell_type": "markdown",
   "metadata": {},
   "source": [
    "まず，フォルダを一つ用意する．\n",
    "コマンドプロンプトを使ったフォルダ操作に慣れているのだったら，どこに作っても良い．\n",
    "そうでないのなら，「ドキュメント」の直下に作ることを勧める．\n",
    "フォルダの名前に__日本語を使わない__．半角英数字で名前をつける．たとえば，abc098 という名前にする．\n",
    "(以下，この文書では，そうしていると仮定する．)\n",
    "\n",
    "そのフォルダに，python ファイルを作る．たとえば，問題Aだったら，a.py という名前にしようか．\n",
    "\n",
    "* エクスプローラで右クリックして，新規作成→テキストドキュメント を選ぶ．\n",
    "<img src=\"fig/fig0401.jpg\" width=\"500\">\n",
    "* 新しいテキストドキュメント.txt という間抜けな名前のファイルができるので，この名前を a.py に直す．\n",
    "「拡張子を変更するとファイルが使えなくなる可能性があります．」とか脅されるが，気にしないで直す．\n",
    "* TeraPad を開いておいて，その上に，エクスプローラから，今作った a.py を落とす．\n",
    "<img src=\"fig/fig0402.jpg\" width=\"500\">\n",
    "* atCoder-3.ipynb で作ったセルの内容を丸ごとコピーして，TeraPadの上の a.py に貼りつけて，保存する．"
   ]
  },
  {
   "cell_type": "markdown",
   "metadata": {},
   "source": [
    "次に，入力用ファイルを準備する．\n",
    "今度は普通のテキストファイルで良い．\n",
    "\n",
    "* 上と同じように新規テキストファイルを作って，i1.txt という名前に直し，TeraPad の上に落とす．\n",
    "* atCoderのページで，「入力例1」をコピーする．(右上にCopyというボタンがある)\n",
    "* TeraPadのt1.txtに貼り付けて，保存する．\n",
    "\n",
    "同じように，入力例2, 入力例3, ... に対して，t2.txt, t3.txt, ... というファイルを作る．"
   ]
  },
  {
   "cell_type": "markdown",
   "metadata": {},
   "source": [
    "anaconda prompt を起動する．下のような窓が出るはず．\n",
    "<img src=\"fig/fig0403.jpg\" width=\"500\">\n",
    "\n",
    "次に，anaconda prompt の「現在のフォルダ」を，abc098 にする．これは，以下の手順による:\n",
    "エクスプローラで，下の図の矢印の当たりを左クリックすると，\n",
    "<img src=\"fig/fig0404.jpg\" width=\"500\">\n",
    "こんな表示だった\n",
    "<img src=\"fig/fig0405.jpg\" width=\"500\">\n",
    "のが，こんなふう\n",
    "<img src=\"fig/fig0406.jpg\" width=\"500\">\n",
    "に変わる．ここで，右クリックしてコピーする．\n",
    "\n",
    "anaconda prompt に戻る．まず，\n",
    "\n",
    "    cd\n",
    "    \n",
    "と打って (Enterしない) からスペースを一つ空ける．そこで，右クリックして，「貼り付け」を選ぶ．\n",
    "(Ctrl-V は，多分効かないので，面倒でも右クリックして貼り付ける．)\n",
    "そこで Enter キーを押す．\n",
    "\n",
    "これでOKなはずだが，念のため，ここに a.py や in1.txt などがあることを確認しよう．\n",
    "anaconda prompt で，\n",
    "\n",
    "    dir /w\n",
    "\n",
    "と入力して，今度はそのまま Enter キーを押す．そこに，a.py や，in1.txt などが表示されればOK．\n",
    "<img src=\"fig/fig0407.jpg\" width=\"500\">"
   ]
  },
  {
   "cell_type": "markdown",
   "metadata": {},
   "source": [
    "ようやく準備が整ったので，テストをする．\n",
    "anaconda promptで次のように入力する．\n",
    "\n",
    "    python a.py < in1.txt\n",
    "\n",
    "画面上に，「出力例1」と同じものがでてくればOK．\n",
    "in2.txt, in3.txt, ... も同じようにテストする．\n",
    "\n",
    "全部のテストが通ったら，atCoder に提出しよう．\n",
    "問題番号と言語を間違わないように..."
   ]
  }
 ],
 "metadata": {
  "kernelspec": {
   "display_name": "Python 3",
   "language": "python",
   "name": "python3"
  },
  "language_info": {
   "codemirror_mode": {
    "name": "ipython",
    "version": 3
   },
   "file_extension": ".py",
   "mimetype": "text/x-python",
   "name": "python",
   "nbconvert_exporter": "python",
   "pygments_lexer": "ipython3",
   "version": "3.6.0"
  }
 },
 "nbformat": 4,
 "nbformat_minor": 2
}
