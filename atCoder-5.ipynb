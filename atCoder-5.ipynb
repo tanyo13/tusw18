{
 "cells": [
  {
   "cell_type": "markdown",
   "metadata": {},
   "source": [
    "# atCoderを解いてみる (Part 5)\n",
    "\n",
    "<p style=\"text-align: right;\">2018.10.19 田辺</p>\n",
    "\n",
    "なかなかAtCoderに提出をする者がでないのは，やはり readQuestion の書き方が難しいのだろうか?\n",
    "これくらい書けてほしいのだが，仕方が無いので，もう少し敷居を下げてやることにした．\n",
    "こんなに過保護で良いのだろうか?"
   ]
  },
  {
   "cell_type": "markdown",
   "metadata": {},
   "source": [
    "## スケルトンコードの自動生成\n",
    "\n",
    "入力の仕様を与えると，solve() と readQuestion() と main() を自動生成するプログラムを作った．\n",
    "[ブラウザから利用できる][skeltonURL]\n",
    "\n",
    "[skeltonURL]: http://dcm-trm.net/atcoder/skelton_form"
   ]
  },
  {
   "cell_type": "markdown",
   "metadata": {},
   "source": [
    "## 例\n",
    "\n",
    "[ABC109 の問題 A][abc109a] を例に取る．この問題の場合には，2つの数値が1行に与えられる．つまり，入力形式は，次のようになっている．\n",
    "\n",
    "<div style=\"padding: 5px; margin-bottom: 10px; border: 1px solid #333333;\">\n",
    "$A$　$B$\n",
    "</div>\n",
    "\n",
    "この場合には，「入力定義」のところに，次のように記入すれば良い:\n",
    "\n",
    "    a b\n",
    "\n",
    "大文字にしても悪くはないが，個々に指定した名前が Python の変数になるので，小文字の方が見やすいだろう．\n",
    "\n",
    "送信ボタンを押すと，次のようなコードが生成される．\n",
    "\n",
    "[abc109a]: https://beta.atcoder.jp/contests/abc109/tasks/abc109_a"
   ]
  },
  {
   "cell_type": "code",
   "execution_count": 1,
   "metadata": {},
   "outputs": [],
   "source": [
    "import sys\n",
    "\n",
    "def solve(a, b):\n",
    "    # Uncomment the following if you want to check the input.\n",
    "    # print('a =', a)\n",
    "    # print('b =', b)\n",
    "    return 0 # replace with the answer\n",
    "\n",
    "\n",
    "def readQuestion():\n",
    "    ws = sys.stdin.readline().strip().split()\n",
    "    a = int(ws[0])\n",
    "    b = int(ws[1])\n",
    "    return (a, b)\n",
    "\n",
    "def main():\n",
    "    print(solve(*readQuestion()))\n",
    "\n",
    "# Uncomment before submission\n",
    "# main()"
   ]
  },
  {
   "cell_type": "markdown",
   "metadata": {},
   "source": [
    "「クリップボードにコピー」というボタンがあるので，それを押して，Jupyter Notebook に貼付ければ良い．\n",
    "\n",
    "このようにスケルトンが生成されるので，solve 関数のみを定義すれば良いのである．引数に a と b が，\n",
    "ちゃんと整数になって渡ってくる．\n",
    "\n",
    "    return 0\n",
    "    \n",
    "というダミーのコードが書いてあるが，これを消して，必要な答を返すようにする．\n",
    "言うまでもないと思うが，print をするわけではないことに注意．(printは，main関数に書いてある．)\n",
    "\n",
    "AtCoder に提出をするときには，最後の行にある main() の呼び出しを有効にしなければならない．\n",
    "Jupyter Notebook でテストをするときには邪魔になるのでコメントにしてある．\n",
    "\n",
    "この問題の場合には，solve を次のように書き換えれば良い:"
   ]
  },
  {
   "cell_type": "code",
   "execution_count": 2,
   "metadata": {},
   "outputs": [],
   "source": [
    "def solve(a, b):\n",
    "    if a*b % 2 == 1:\n",
    "        return 'Yes'\n",
    "    else:\n",
    "        return 'No'"
   ]
  },
  {
   "cell_type": "markdown",
   "metadata": {},
   "source": [
    "## 入力例によるテスト\n",
    "\n",
    "AtCoder の問題には，入力例がいくつかついている．この例を使ったテストを簡単に実行できるようにした．\n",
    "先のページの下半分の「入力例実行用コードの生成」がそれである．\n",
    "\n",
    "入力欄が4つあるが，余った部分は空白にしておいても良い．各入力欄に，AtCoder のページから，入力例を1つずつ貼り付ける．\n",
    "ABC109-A では，以下の3つの入力例が載っているので，これらを貼り付けて，送信する．\n",
    "\n",
    "    3 1\n",
    "    \n",
    "    1 2\n",
    "    \n",
    "    2 2\n",
    "    \n",
    "すると以下のようなコードが生成されるので，これも同じように Jupyter Notebook に貼り付ける．"
   ]
  },
  {
   "cell_type": "code",
   "execution_count": 3,
   "metadata": {},
   "outputs": [],
   "source": [
    "import io\n",
    "\n",
    "def test1():\n",
    "    indata = '''3 1\n",
    "'''\n",
    "    sys.stdin = io.StringIO(indata)\n",
    "    main()\n",
    "\n",
    "def test2():\n",
    "    indata = '''1 2\n",
    "'''\n",
    "    sys.stdin = io.StringIO(indata)\n",
    "    main()\n",
    "\n",
    "def test3():\n",
    "    indata = '''2 2\n",
    "'''\n",
    "    sys.stdin = io.StringIO(indata)\n",
    "    main()"
   ]
  },
  {
   "cell_type": "markdown",
   "metadata": {},
   "source": [
    "生成されたコードを見ればわかるように，3つの関数 test1, test2, test3 が定義されている．これらを順に実行してみれば良い．\n",
    "\n",
    "まず，入力例1 の 3 1 は，Yes になるはずである．"
   ]
  },
  {
   "cell_type": "code",
   "execution_count": 4,
   "metadata": {},
   "outputs": [
    {
     "name": "stdout",
     "output_type": "stream",
     "text": [
      "Yes\n"
     ]
    }
   ],
   "source": [
    "test1()"
   ]
  },
  {
   "cell_type": "markdown",
   "metadata": {},
   "source": [
    "正しい答が出力された．残り二つは No になるはずである．確認してみよ．"
   ]
  },
  {
   "cell_type": "code",
   "execution_count": 5,
   "metadata": {},
   "outputs": [
    {
     "name": "stdout",
     "output_type": "stream",
     "text": [
      "No\n"
     ]
    }
   ],
   "source": [
    "test2()"
   ]
  },
  {
   "cell_type": "code",
   "execution_count": 6,
   "metadata": {},
   "outputs": [
    {
     "name": "stdout",
     "output_type": "stream",
     "text": [
      "No\n"
     ]
    }
   ],
   "source": [
    "test3()"
   ]
  },
  {
   "cell_type": "markdown",
   "metadata": {},
   "source": [
    "他の値についてのテストを増やすことも簡単であろう．"
   ]
  },
  {
   "cell_type": "markdown",
   "metadata": {},
   "source": [
    "## 複雑な入力 -- 値の並び\n",
    "\n",
    "入力がもっと複雑な場合にも対応している．例えば，[ABC110の問題B][abc110b] の形式は以下のようになっている．\n",
    "\n",
    "<div style=\"padding: 5px; margin-bottom: 10px; border: 1px solid #333333;\">\n",
    "$N$　$M$　$X$　$Y$<br/>\n",
    "$x_1$　$x_2$　$\\ldots$　$x_N$<br/>\n",
    "$y_1$　$y_2$　$\\ldots$　$y_M$<br/>\n",
    "</div>\n",
    "\n",
    "この場合は，次のように入力する．\n",
    "\n",
    "    N M X Y\n",
    "    x_1 ... x_N\n",
    "    y_1 ... y_M\n",
    "\n",
    "* 単一の値は，アルファベットで記入する．上ではすべて1文字にしているが，2文字以上使っても良い．\n",
    "  例えば，大文字で始まる変数名を嫌うのなら，次のようにしても良い．\n",
    "  \n",
    "      n m bigX bigY\n",
    "      x_1 ... x_n\n",
    "      y_1 ... y_m\n",
    "  \n",
    "* 添字付きの値の並びは，`...` を使って表現する．ドットは2個以上あれば良いが，必ず前後に空白が必要である．\n",
    "* 変数名と添字は，アンダースコア(`_`) で区切る．\n",
    "\n",
    "この結果，以下のようなスケルトンが得られる．\n",
    "\n",
    "[abc110b]: https://beta.atcoder.jp/contests/abc110/tasks/abc110_b"
   ]
  },
  {
   "cell_type": "code",
   "execution_count": 7,
   "metadata": {},
   "outputs": [],
   "source": [
    "import sys\n",
    "\n",
    "def solve(N, M, X, Y, ls_x, ls_y):\n",
    "    # Uncomment the following if you want to check the input.\n",
    "    # print('N =', N)\n",
    "    # print('M =', M)\n",
    "    # print('X =', X)\n",
    "    # print('Y =', Y)\n",
    "    # print('ls_x =', ls_x)\n",
    "    # print('ls_y =', ls_y)\n",
    "    return 0 # replace with the answer\n",
    "\n",
    "\n",
    "def readQuestion():\n",
    "    ws = sys.stdin.readline().strip().split()\n",
    "    N = int(ws[0])\n",
    "    M = int(ws[1])\n",
    "    X = int(ws[2])\n",
    "    Y = int(ws[3])\n",
    "    ws = sys.stdin.readline().strip().split()\n",
    "    ls_x = list(map(int, ws))\n",
    "    ws = sys.stdin.readline().strip().split()\n",
    "    ls_y = list(map(int, ws))\n",
    "    return (N, M, X, Y, ls_x, ls_y)\n",
    "\n",
    "def main():\n",
    "    print(solve(*readQuestion()))\n",
    "\n",
    "# Uncomment before submission\n",
    "# main()"
   ]
  },
  {
   "cell_type": "markdown",
   "metadata": {},
   "source": [
    "solve に与えられる引数の名前と値の形式に注意する．\n",
    "* 単一の値は，指定したとおりの引数名になる．\n",
    "* 値の並びはリストで渡される．引数名は，指定した名前の前に `ls_` がつく．\n",
    "\n",
    "実際に渡される値を確認したければ，solve のコメントにしてある print 文を有効にすれば良い．\n",
    "入力例からの変換されたコードを用いて値の形式を確認することができる．"
   ]
  },
  {
   "cell_type": "code",
   "execution_count": 8,
   "metadata": {},
   "outputs": [],
   "source": [
    "def solve(N, M, X, Y, ls_x, ls_y):\n",
    "    # Uncomment the following if you want to check the input.\n",
    "    print('N =', N)\n",
    "    print('M =', M)\n",
    "    print('X =', X)\n",
    "    print('Y =', Y)\n",
    "    print('ls_x =', ls_x)\n",
    "    print('ls_y =', ls_y)\n",
    "    return 0 # replace with the answer"
   ]
  },
  {
   "cell_type": "code",
   "execution_count": 9,
   "metadata": {},
   "outputs": [],
   "source": [
    "import io\n",
    "\n",
    "def test1():\n",
    "    indata = '''3 2 10 20\n",
    "8 15 13\n",
    "16 22\n",
    "'''\n",
    "    sys.stdin = io.StringIO(indata)\n",
    "    main()"
   ]
  },
  {
   "cell_type": "code",
   "execution_count": 10,
   "metadata": {},
   "outputs": [
    {
     "name": "stdout",
     "output_type": "stream",
     "text": [
      "N = 3\n",
      "M = 2\n",
      "X = 10\n",
      "Y = 20\n",
      "ls_x = [8, 15, 13]\n",
      "ls_y = [16, 22]\n",
      "0\n"
     ]
    }
   ],
   "source": [
    "test1()"
   ]
  },
  {
   "cell_type": "markdown",
   "metadata": {},
   "source": [
    "## 縦方向の並び\n",
    "\n",
    "縦方向に並ぶ入力もある．[ABC112の問題B][abc112b] の形式は以下のようになっている．\n",
    "\n",
    "<div style=\"padding: 5px; margin-bottom: 10px; border: 1px solid #333333;\">\n",
    "$N$　$T$<br/>\n",
    "$c_1$　$t_1$<br/>\n",
    "$c_2$　$t_2$<br/>\n",
    "$:$<br/>\n",
    "$c_N$　$t_N$<br/>\n",
    "</div>\n",
    "\n",
    "この場合は，次のように入力する．\n",
    "\n",
    "    N T\n",
    "    c_1 t_1\n",
    "    ...\n",
    "    c_N t_N\n",
    "\n",
    "* 縦の並びも，2つ以上のドットで示す．ドットのみからなる行を置く．\n",
    "\n",
    "この結果，以下のようなスケルトンが得られる．\n",
    "\n",
    "\n",
    "[abc112b]: https://beta.atcoder.jp/contests/abc112/tasks/abc112_b"
   ]
  },
  {
   "cell_type": "code",
   "execution_count": 11,
   "metadata": {},
   "outputs": [],
   "source": [
    "import sys\n",
    "\n",
    "def solve(N, T, ls_ct):\n",
    "    # Uncomment the following if you want to check the input.\n",
    "    # print('N =', N)\n",
    "    # print('T =', T)\n",
    "    # print('ls_ct =', ls_ct)\n",
    "    return 0 # replace with the answer\n",
    "\n",
    "\n",
    "def readQuestion():\n",
    "    ws = sys.stdin.readline().strip().split()\n",
    "    N = int(ws[0])\n",
    "    T = int(ws[1])\n",
    "    ls_ct = [list(map(int, sys.stdin.readline().strip().split())) for j in range(N)]\n",
    "    return (N, T, ls_ct)\n",
    "\n",
    "def main():\n",
    "    print(solve(*readQuestion()))\n",
    "\n",
    "# Uncomment before submission\n",
    "# main()"
   ]
  },
  {
   "cell_type": "markdown",
   "metadata": {},
   "source": [
    "縦方向の並びは，1つのリストとして引数に与えられる．各行に複数の値がある場合には，リストのリストになる．\n",
    "各行の値が1つだけのときには，普通の (1階層の) リストである．\n",
    "\n",
    "次の入力に対して，上と同じようにコメントを外して値を確認してみよう．\n",
    "\n",
    "    3 70\n",
    "    7 60\n",
    "    1 80\n",
    "    4 50\n",
    "    \n",
    "次のような出力が得られる:\n",
    "\n",
    "    N = 3\n",
    "    T = 70\n",
    "    ls_ct = [[7, 60], [1, 80], [4, 50]]\n",
    "    0"
   ]
  },
  {
   "cell_type": "markdown",
   "metadata": {},
   "source": [
    "## 文字列\n",
    "\n",
    "AtCoderの問題は，整数が与えられることが多いので，何も指定しないときには整数として扱うようになっている．\n",
    "文字列が与えられるとこのままでは正しく動作しないので，明示的に指定してやる必要がある．\n",
    "次の形式で与える:\n",
    "\n",
    "    *str 名前1 名前2 ...\n",
    "    \n",
    "指定した名前は，文字列として読み込まれる．\n",
    "\n",
    "例として，[ABC109 問題B][abc109b] をとる．$N$は整数，$W_1$, $W_2$, $\\ldots$, $W_N$ は文字列である．\n",
    "\n",
    "<div style=\"padding: 5px; margin-bottom: 10px; border: 1px solid #333333;\">\n",
    "$N$<br/>\n",
    "$W_1$<br/>\n",
    "$W_2$<br/>\n",
    "$:$<br/>\n",
    "$Ww_N$<br/>\n",
    "</div>\n",
    "\n",
    "以下のように入力形式を指定する:\n",
    "\n",
    "    n\n",
    "    w_1\n",
    "    ...\n",
    "    w_n\n",
    "    *str w\n",
    "\n",
    "添字の部分は書かずに，「w」とだけ書いてあることに注意せよ．生成されたコードの solve 関数の部分だけ示すと，\n",
    "\n",
    "    def solve(n, ls_w):\n",
    "\n",
    "となっている．次の入力\n",
    "\n",
    "    4\n",
    "    hoge\n",
    "    english\n",
    "    hoge\n",
    "    enigma\n",
    "\n",
    "に対して読み込んだ値を確認すると，\n",
    "\n",
    "    n = 4\n",
    "    ls_w = ['hoge', 'english', 'hoge', 'enigma']\n",
    "    \n",
    "となっている．\n",
    "\n",
    "[abc109b]: https://beta.atcoder.jp/contests/abc109/tasks/abc109_b"
   ]
  },
  {
   "cell_type": "markdown",
   "metadata": {},
   "source": [
    "## 行列\n",
    "\n",
    "2つの添字を持つ行列が与えられることもある．縦の並びとほとんど同じであり，以下のように指定する．\n",
    "\n",
    "    n m\n",
    "    a_1_1 ... a_1_n\n",
    "    ...\n",
    "    a_m_1 ... a_m_n\n",
    "\n",
    "引数はリストのリストになる．名前は `mat_` が前に着く．上の例では，solve 関数は次のように始まる:\n",
    "\n",
    "    solve(n, m, mat_a)"
   ]
  },
  {
   "cell_type": "markdown",
   "metadata": {},
   "source": [
    "## 文字\n",
    "\n",
    "1文字ごとに扱う問題もある．スケルトン生成でも，一応，サポートした．\n",
    "\n",
    "    *char 名前1 名前2 ...\n",
    "\n",
    "として指定された名前は，文字を表すものとみなす．\n",
    "\n",
    "しかし，文字として個々に読むよりも，文字列として読み込んでしまった方が効率が良い．\n",
    "後で文字を切り出すのは，添字を用いて簡単にできる．"
   ]
  },
  {
   "cell_type": "markdown",
   "metadata": {},
   "source": [
    "## 添字の範囲\n",
    "\n",
    "添字の範囲であるが，常に1から始まるものとする．\n",
    "0で始まる添字は今のところ見たことがないので，サポートしていない．\n",
    "一方，範囲終端は，ほとんどの場合他の引数の値そのものだが，時々，$N-1$ まで，といったものもみられる．\n",
    "そこで，終端添字の位置にブラケット`[` ... `]`で囲んだ式を書けるようにした．\n",
    "ただし，ブラケット開きから閉じまでの間に，空白を入れてはならない．\n",
    "\n",
    "例:\n",
    "    \n",
    "    n  m\n",
    "    a_1  b_1\n",
    "    ...\n",
    "    a_[n-1]  b_[n-1]"
   ]
  }
 ],
 "metadata": {
  "kernelspec": {
   "display_name": "Python 3",
   "language": "python",
   "name": "python3"
  },
  "language_info": {
   "codemirror_mode": {
    "name": "ipython",
    "version": 3
   },
   "file_extension": ".py",
   "mimetype": "text/x-python",
   "name": "python",
   "nbconvert_exporter": "python",
   "pygments_lexer": "ipython3",
   "version": "3.6.6"
  }
 },
 "nbformat": 4,
 "nbformat_minor": 2
}
