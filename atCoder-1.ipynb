{
 "cells": [
  {
   "cell_type": "markdown",
   "metadata": {},
   "source": [
    "# atCoder を解いてみる (Part 1)\n",
    "\n",
    "<p style=\"text-align: right;\">2018.05.08 田辺</p>\n",
    "\n",
    "## 登録\n",
    "\n",
    "まずなにはともあれ，利用登録をする必要がある．\n",
    "atCoderの[先頭ページ](https://atcoder.jp/?lang=ja)の右上にある「新規登録」ボタンを押して，\n",
    "[利用登録ページ](https://practice.contest.atcoder.jp/register)を開き，必要事項を入力して登録する．\n",
    "登録済みの場合には[ログイン](https://practice.contest.atcoder.jp/login)する．\n",
    "ログインしていなくとも問題を見ることはできるが，解答を提出することはできない．"
   ]
  },
  {
   "cell_type": "markdown",
   "metadata": {},
   "source": [
    "## コンテストと過去問\n",
    "\n",
    "頻繁に，ABC (AtCoder Beginners Contest) が行われている．\n",
    "たいてい，土曜日の21:00-22:40が設定されているようである． \n",
    "この時間に挑戦してももちろん構わないが，\n",
    "まずは過去問を解くことから始めるのが良いだろう．\n",
    "要領は，[チュートリアルのページ](https://practice.contest.atcoder.jp/tutorial)に\n",
    "説明されているので，一度目を通しておくことを勧める．\n"
   ]
  },
  {
   "cell_type": "markdown",
   "metadata": {},
   "source": [
    "## 例題1\n",
    "\n",
    "[ABC第95回](https://beta.atcoder.jp/contests/abc095) の\n",
    "[問題A](https://beta.atcoder.jp/contests/abc095/tasks/abc095_a)を例にとる．\n",
    "\n",
    "問題文は次の通り:\n",
    "\n",
    "> ラーメン店「高橋屋」のラーメンの値段は1杯700円ですが、\n",
    "> トッピング（味玉、チャーシュー、ねぎ）を乗せた場合は1種類につき \n",
    "> 100円が加算されます。\n",
    "> \n",
    "> ある客がラーメンを一杯注文し、店員にトッピングの希望を伝えました。\n",
    "> 店員は注文の内容をメモ帳に文字列Sとして記録しました。\n",
    "> Sの長さは3文字で、\n",
    "> Sの1文字目が o のとき客のラーメンに味玉を乗せることを、\n",
    "> xのとき味玉を乗せないことを表します。\n",
    "> 同様に、Sの2文字目、3文字目はそれぞれチャーシュー、ねぎの有無を表します。\n",
    "> Sが入力されると、\n",
    "> 対応するラーメンの値段を出力するプログラムを書いてください。\n",
    "\n",
    "その後に書かれている「制約」「入力」「出力」の欄も重要であることが多いので，必ず読む．\n",
    "さらに，入力例・出力例も良く検討すること．\n"
   ]
  },
  {
   "cell_type": "markdown",
   "metadata": {},
   "source": [
    "## 全体\n",
    "\n",
    "atCoderの問題を解くプログラムは，次の3つの仕事をしなくてはならない．\n",
    "\n",
    "1. 入力を読み込んで，必要な問題データを得る．\n",
    "2. 問題データから，解答データを作成する．\n",
    "3. 解答データを出力する．\n",
    "\n",
    "もちろん，2が最も重要で，問題ごとに苦労するところである．\n",
    "1.と3.は，問題ごとに多少の違いはあるが，だいたい同じような感じになる．\n",
    "特に3.は，print文1つですむことが多い．\n",
    "そこで，(初めのうちは) 以下のフォーマットで，プログラムを作成することを勧める．\n",
    "\n",
    "    # 問題データを読み込む\n",
    "    def readQuestion():\n",
    "        ....\n",
    "        ....\n",
    "    \n",
    "    # 解く\n",
    "    def solve(x, y, ..., z):\n",
    "        ....\n",
    "        ....\n",
    "    \n",
    "    # 全体\n",
    "    def main():\n",
    "        x, y, ..., z = readQuestion()\n",
    "        answer = solve(x, y, ..., z)\n",
    "        print(answer)\n",
    "    \n",
    "    # mainを呼び出す\n",
    "    if __name__ == '__main__':\n",
    "        main()\n",
    "\n"
   ]
  },
  {
   "cell_type": "markdown",
   "metadata": {},
   "source": [
    "## 関数\n",
    "\n",
    "「def」で始まるブロックは「関数」と呼ばれる．\n",
    "あるまとまった処理を行う部分である．\n",
    "上のフォーマットでは，readQuestion, solve, main という 3つの関数を定義して，最後に\n",
    "main関数を呼び出すように書いてある．\n",
    "(最後のif文はおまじない (常に成り立つ) なので気にしない．)\n",
    "mainから，他の2つの関数 readQuestion と solve を呼び出している．"
   ]
  },
  {
   "cell_type": "markdown",
   "metadata": {},
   "source": [
    "## solve\n",
    "\n",
    "問題を解く実質の部分を，solve関数として実装する．\n",
    "この問題の場合には，文字列 s を受け取って，金額 y を返す．\n",
    "s の中にある o の個数を数え，100倍して，700に加えれば良い．"
   ]
  },
  {
   "cell_type": "code",
   "execution_count": null,
   "metadata": {
    "collapsed": true
   },
   "outputs": [],
   "source": [
    "def solve(s):\n",
    "    count = 0\n",
    "    for c in s:\n",
    "        if c == 'o':\n",
    "            count += 1\n",
    "    y = 700 + 100 * count\n",
    "    return y"
   ]
  },
  {
   "cell_type": "markdown",
   "metadata": {},
   "source": [
    "上のコードにあるように，返すべき値を適当な変数 y に設定しておいて，return y とすればよい．\n",
    "インデントに注意．"
   ]
  },
  {
   "cell_type": "markdown",
   "metadata": {},
   "source": [
    "## readQuestion\n",
    "\n",
    "入力の読み込み方の基本は，`sys.stdin.readline()` である．\n",
    "このコードによって，入力が1行読み込まれる．\n",
    "ただし，`sys.stdin` を使用するためには，あらかじめ「sysモジュールのインポート」が必要である:"
   ]
  },
  {
   "cell_type": "code",
   "execution_count": null,
   "metadata": {
    "collapsed": true
   },
   "outputs": [],
   "source": [
    "import sys"
   ]
  },
  {
   "cell_type": "markdown",
   "metadata": {},
   "source": [
    "このコードは，ファイルの上方に書いておく．\n",
    "プログラムのファイルについては後述する．\n",
    "readQuestion関数は，次のように定義できる．"
   ]
  },
  {
   "cell_type": "code",
   "execution_count": null,
   "metadata": {
    "collapsed": true
   },
   "outputs": [],
   "source": [
    "def readQuestion():\n",
    "    line = sys.stdin.readline()\n",
    "    sline = line.rstrip()\n",
    "    return sline  "
   ]
  },
  {
   "cell_type": "markdown",
   "metadata": {},
   "source": [
    "readline によって，与えられた入力の1行が読み込まれて変数 line に格納されるが，この際，行末の改行を表す1文字もついてくる．\n",
    "この問題では改行文字があっても邪魔にはならないが，取り除く必要があることもある．\n",
    "その場合には，上のように rstrip メソッドを用いることで，文字列後方にある空白文字 (改行文字も空白文字の一種である) を\n",
    "取り除くことができる．"
   ]
  },
  {
   "cell_type": "markdown",
   "metadata": {},
   "source": [
    "## main\n",
    "\n",
    "main関数は，solveとreadQuestionを組み合わせるだけである．"
   ]
  },
  {
   "cell_type": "code",
   "execution_count": null,
   "metadata": {
    "collapsed": true
   },
   "outputs": [],
   "source": [
    "def main():\n",
    "    s = readQuestion()\n",
    "    answer = solve(s)\n",
    "    print(answer)"
   ]
  },
  {
   "cell_type": "markdown",
   "metadata": {},
   "source": [
    "## mainの起動\n",
    "\n",
    "最後に，mainを起動する部分を書く．"
   ]
  },
  {
   "cell_type": "code",
   "execution_count": null,
   "metadata": {
    "collapsed": true
   },
   "outputs": [],
   "source": [
    "if __name__ == '__main__':\n",
    "    main()"
   ]
  },
  {
   "cell_type": "markdown",
   "metadata": {},
   "source": [
    "このコードは意味不明に見えるかもしれないが，\n",
    "多くの python プログラムはこのようにして main 関数を起動するように書かれるものなので，\n",
    "当面，おまじない と思って，このように書いておけば良い．\n",
    "\n",
    "この問題では，このコードが，Jupyter Notebook の中で\n",
    "このまま動作するが，いつでもそうなるとは限らず，エラーになる場合もある．\n",
    "Jupyter Notebook では，`sys.stdin` からの入力を直接扱えないからである．\n",
    "実際にはファイルとしてプログラムを作成するので，そうなっても気にしなくて良い．"
   ]
  },
  {
   "cell_type": "markdown",
   "metadata": {},
   "source": [
    "## ユニットテスト\n",
    "\n",
    "全体をプログラムとして走らせる前に，solve 関数が正しく動作しているかどうかをテストするのが良い．\n",
    "実際にプログラムを書く場合，solve関数が一度で正しく動作することはほとんど期待できず，何度も\n",
    "テストしては修正することを繰り返すのである．\n",
    "\n",
    "たとえば，以下のコード"
   ]
  },
  {
   "cell_type": "code",
   "execution_count": null,
   "metadata": {
    "collapsed": true
   },
   "outputs": [],
   "source": [
    "print(solve(\"ooo\"))"
   ]
  },
  {
   "cell_type": "markdown",
   "metadata": {},
   "source": [
    "は，1000を出力するはずである．また，以下のコード"
   ]
  },
  {
   "cell_type": "code",
   "execution_count": null,
   "metadata": {
    "collapsed": true
   },
   "outputs": [],
   "source": [
    "print(solve(\"xxo\"))"
   ]
  },
  {
   "cell_type": "markdown",
   "metadata": {},
   "source": [
    "は，800を出力しなければならない．このようにして，solve関数をテストする．\n",
    "関数ごとに行うテストのことを，ユニットテスト (unit test) と言う．"
   ]
  },
  {
   "cell_type": "markdown",
   "metadata": {},
   "source": [
    "## スクリプトファイル\n",
    "\n",
    "以上のコード片を全て集めて，1つのファイルとして作成し，拡張子「.py」をつける．\n",
    "ここでは，`abc095a.py`という名前でファイルを作ろう．\n",
    "以下の内容になるようにする:"
   ]
  },
  {
   "cell_type": "code",
   "execution_count": null,
   "metadata": {
    "collapsed": true
   },
   "outputs": [],
   "source": [
    "import sys\n",
    "\n",
    "def readQuestion():\n",
    "    line = sys.stdin.readline()\n",
    "    sline = line.rstrip()\n",
    "    return sline  \n",
    "\n",
    "def solve(s):\n",
    "    count = 0\n",
    "    for c in s:\n",
    "        if c == 'o':\n",
    "            count += 1\n",
    "    y = 700 + 100 * count\n",
    "    return y\n",
    "\n",
    "def main():\n",
    "    s = readQuestion()\n",
    "    answer = solve(s)\n",
    "    print(answer)\n",
    "    \n",
    "if __name__ == '__main__':\n",
    "    main()"
   ]
  },
  {
   "cell_type": "markdown",
   "metadata": {},
   "source": [
    "インデント (段下げ) に注意する．\n",
    "エディタによっては勝手にタブが入ってしまう場合があるが，そうならないように，\n",
    "半角空白4つでインデントをつけるように気をつける．"
   ]
  },
  {
   "cell_type": "markdown",
   "metadata": {},
   "source": [
    "## 統合テスト\n",
    "\n",
    "最後に，スクリプトファイルのテストを行う．\n",
    "\n",
    "### テストデータ\n",
    "\n",
    "まず，テストデータを用意する．atCoderの問題文に，入力例と出力例がいくつか記載されている．\n",
    "これらは必ずテストしなければならない．以下の手順による．\n",
    "\n",
    "1. 適当なテキストエディタを用いて，`abc095a-in1.txt` という名前で新規ファイルを開く．\n",
    "1. atCoderの問題で，「入力例1」の右脇にある「Copy」ボタンをクリックする．\n",
    "1. エディタに戻って，貼り付けを行い，保存する．\n",
    "\n",
    "同様の手順で，入力例2, ... についても作業を行い，`abc095a-in2.txt`, ... を作成する．\n",
    "ファイル名は自分の好きなように変えて良いが，スクリプトファイルと同一のフォルダに保存すること．\n",
    "\n",
    "### テストの実行\n",
    "\n",
    "以下のように，端末を起動する．(2018年度の新入生に配布したPCは，Pythonのインストーラを用いてインストールをしてある)\n",
    "\n",
    "* Anacondaを用いてPythonをインストールした場合には，Anaconda Prompt を起動する．\n",
    "* Python のインストーラを用いてインストールした場合には，コマンドプロンプトを起動する．\n",
    "\n",
    "cd コマンドを用いて，スクリプトファイルやテストデータの置いてあるフォルダをカレントフォルダにする．\n",
    "その手順は以下の通りだが，\n",
    "いろいろ方法を紹介しているサイトがある\n",
    "([例](http://www.koikikukan.com/archives/2014/03/18-015555.php))\n",
    "ので，参考にしても良い．\n",
    "\n",
    "1. エクスプローラで，スクリプトファイルの置いてあるフォルダを開く\n",
    "1. エクスプローラのアドレスバーで右クリックし，「アドレスのコピー」を選ぶ．\n",
    "1. 端末に戻り，cd とタイプし，引き続いて半角空白を入れる．\n",
    "1. 端末で右クリックして「貼り付け」を選ぶ．\n",
    "1. エンターキーを押す．\n",
    "\n",
    "端末で，以下のコマンドを入力して，テストを行う．\n",
    "\n",
    "    python abc095a.py < abc095a-in1.txt\n",
    "    \n",
    "画面上に，「出力例1」と同じ内容が表示されれば，テストは成功である．\n",
    "同様にして，`abc095a-in2.txt`, ... も実行する．\n",
    "\n"
   ]
  },
  {
   "cell_type": "markdown",
   "metadata": {},
   "source": [
    "## 提出\n",
    "\n",
    "テストが成功したら，atCoderのサイトに，解答を提出する．\n",
    "atCoderにログインしている状態で問題を表示すれば，問題ページの最下部に，提出用のフォームが表示されている．\n",
    "\n",
    "必ず，「言語」のドロップダウンボックスで，<span style=\"color: red;\">Python3を選択する</span>こと．\n",
    "次に，「ソースコード」に，スクリプトファイルの内容をコピー・ペーストし，最後に「提出」ボタンを押す．\n",
    "\n",
    "提出一覧が表示される．最初は「WA」と表示されているが，しばらく待つと (状況によっては再読込が必要なこともある)，\n",
    "結果が表示される．緑で「AC」と表示されれば正解．それ以外は不正解である．\n",
    "\n",
    "Part 2 に続く．"
   ]
  }
 ],
 "metadata": {
  "kernelspec": {
   "display_name": "Python 3",
   "language": "python",
   "name": "python3"
  },
  "language_info": {
   "codemirror_mode": {
    "name": "ipython",
    "version": 3
   },
   "file_extension": ".py",
   "mimetype": "text/x-python",
   "name": "python",
   "nbconvert_exporter": "python",
   "pygments_lexer": "ipython3",
   "version": "3.6.0"
  }
 },
 "nbformat": 4,
 "nbformat_minor": 2
}
